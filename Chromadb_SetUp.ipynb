{
 "cells": [
  {
   "cell_type": "code",
   "execution_count": null,
   "outputs": [],
   "source": [
    "!pip install -qU langchain_ollama\n",
    "!pip install -qU \"langchain-chroma>=0.1.2\""
   ],
   "metadata": {
    "collapsed": false
   }
  },
  {
   "cell_type": "code",
   "execution_count": 67,
   "outputs": [
    {
     "name": "stdout",
     "output_type": "stream",
     "text": [
      "C:\\Users\\natha\\OneDrive\\Documents\\University of Michigan\\Capstone\n"
     ]
    }
   ],
   "source": [
    "%cd C:\\Users\\natha\\OneDrive\\Documents\\University of Michigan\\Capstone\\"
   ],
   "metadata": {
    "collapsed": false,
    "ExecuteTime": {
     "start_time": "2025-03-09T16:04:26.685770Z",
     "end_time": "2025-03-09T16:04:26.699751Z"
    }
   }
  },
  {
   "cell_type": "code",
   "execution_count": 68,
   "outputs": [],
   "source": [
    "from chromadb.utils import embedding_functions\n",
    "import pandas as pd\n",
    "import chromadb\n",
    "\n",
    "default_ef = embedding_functions.DefaultEmbeddingFunction()"
   ],
   "metadata": {
    "collapsed": false,
    "ExecuteTime": {
     "start_time": "2025-03-09T16:04:35.386614Z",
     "end_time": "2025-03-09T16:04:35.403090Z"
    }
   }
  },
  {
   "cell_type": "code",
   "execution_count": 71,
   "outputs": [],
   "source": [
    "# Run if need to create a new dataset\n",
    "import chromadb\n",
    "client = chromadb.PersistentClient(path=\"collection_test\")\n",
    "collection = client.create_collection(name=\"trial_collection\", embedding_function=default_ef)\n"
   ],
   "metadata": {
    "collapsed": false,
    "ExecuteTime": {
     "start_time": "2025-03-09T16:04:51.800093Z",
     "end_time": "2025-03-09T16:04:51.878632Z"
    }
   }
  },
  {
   "cell_type": "code",
   "execution_count": 70,
   "outputs": [],
   "source": [
    "# Run if need to delete collection\n",
    "client.delete_collection(name=\"trial_collection\")"
   ],
   "metadata": {
    "collapsed": false,
    "ExecuteTime": {
     "start_time": "2025-03-09T16:04:49.763825Z",
     "end_time": "2025-03-09T16:04:49.807508Z"
    }
   }
  },
  {
   "cell_type": "code",
   "execution_count": 82,
   "outputs": [],
   "source": [
    "from langchain_text_splitters import RecursiveCharacterTextSplitter\n",
    "\n",
    "# Take text field and add it to ChromaDB\n",
    "def text_collection_add(text_pdSeries,collection, section, ticker):\n",
    "    text = (' '.join(text_pdSeries['text']))\n",
    "\n",
    "    # Set Text Splitter\n",
    "    text_splitter = RecursiveCharacterTextSplitter(\n",
    "        chunk_size=1000,\n",
    "        chunk_overlap=50,\n",
    "        separators=[\"\\n\\n\", \"\\n\", \". \", \" \", \"\"],\n",
    "    )\n",
    "\n",
    "    # Create Docs\n",
    "    docs = text_splitter.create_documents([text])\n",
    "\n",
    "    # Add to ChromaDB\n",
    "    collection.add(\n",
    "        documents=[i.page_content for i in docs],\n",
    "        ids=[ticker + \"_\" + section + \"_\" + f\"{i}\" for i in range(len(docs))],\n",
    "        metadatas=\n",
    "        [\n",
    "            {\n",
    "                \"ticker\": ticker,\n",
    "                \"section\":section}\n",
    "            for _ in docs\n",
    "        ],\n",
    "    )\n"
   ],
   "metadata": {
    "collapsed": false,
    "ExecuteTime": {
     "start_time": "2025-03-09T16:07:26.164585Z",
     "end_time": "2025-03-09T16:07:26.182737Z"
    }
   }
  },
  {
   "cell_type": "code",
   "execution_count": 73,
   "outputs": [],
   "source": [
    "collection = client.get_collection(name=\"trial_collection\", embedding_function=default_ef)"
   ],
   "metadata": {
    "collapsed": false,
    "ExecuteTime": {
     "start_time": "2025-03-09T16:05:03.181591Z",
     "end_time": "2025-03-09T16:05:03.199650Z"
    }
   }
  },
  {
   "cell_type": "code",
   "execution_count": null,
   "outputs": [
    {
     "name": "stdout",
     "output_type": "stream",
     "text": [
      "A\n",
      "PROPERTIES\n",
      "LEGAL_PROCEEDINGS\n",
      "MANAGEMENT_DISCUSSION\n"
     ]
    }
   ],
   "source": [
    "for ticker in ['A','AAPL','ABBV','ABT','ACGL','ACN','ADBE','ADI','ADM','ADP','ADSK']:\n",
    "    print(ticker)\n",
    "    doc = pd.read_csv('DOCS/'+ticker+'_2024.csv')\n",
    "    for s in doc['section'].unique():\n",
    "        print(s)\n",
    "        text_collection_add(doc[doc['section'] == s],collection, s, ticker)"
   ],
   "metadata": {
    "collapsed": false,
    "ExecuteTime": {
     "start_time": "2025-03-09T15:42:29.861200Z",
     "end_time": "2025-03-09T15:42:30.487904Z"
    },
    "pycharm": {
     "is_executing": true
    }
   }
  },
  {
   "cell_type": "code",
   "execution_count": 77,
   "outputs": [
    {
     "data": {
      "text/plain": "{'ids': [],\n 'embeddings': array([], dtype=float64),\n 'documents': [],\n 'uris': None,\n 'data': None,\n 'metadatas': [],\n 'included': [<IncludeEnum.embeddings: 'embeddings'>,\n  <IncludeEnum.documents: 'documents'>,\n  <IncludeEnum.metadatas: 'metadatas'>]}"
     },
     "execution_count": 77,
     "metadata": {},
     "output_type": "execute_result"
    }
   ],
   "source": [
    "collection.peek(5)"
   ],
   "metadata": {
    "collapsed": false,
    "ExecuteTime": {
     "start_time": "2025-03-09T16:06:14.127531Z",
     "end_time": "2025-03-09T16:06:14.198201Z"
    }
   }
  },
  {
   "cell_type": "code",
   "execution_count": 51,
   "outputs": [
    {
     "data": {
      "text/plain": "{'ids': [['A_PROPERTIES_0', 'A_LEGAL_PROCEEDINGS_0']],\n 'embeddings': None,\n 'documents': [['section element_type text', 'section element_type text']],\n 'uris': None,\n 'data': None,\n 'metadatas': [[{'section': 'PROPERTIES', 'ticker': 'A'},\n   {'section': 'LEGAL_PROCEEDINGS', 'ticker': 'A'}]],\n 'distances': [[1.768758593799916, 1.768758593799916]],\n 'included': [<IncludeEnum.distances: 'distances'>,\n  <IncludeEnum.documents: 'documents'>,\n  <IncludeEnum.metadatas: 'metadatas'>]}"
     },
     "execution_count": 51,
     "metadata": {},
     "output_type": "execute_result"
    }
   ],
   "source": [
    "collection.query(query_texts=[\"What are the main properties?\"], n_results=2)"
   ],
   "metadata": {
    "collapsed": false,
    "ExecuteTime": {
     "start_time": "2025-03-09T15:42:53.589858Z",
     "end_time": "2025-03-09T15:42:53.649839Z"
    }
   }
  }
 ],
 "metadata": {
  "kernelspec": {
   "display_name": "Python 3",
   "language": "python",
   "name": "python3"
  },
  "language_info": {
   "codemirror_mode": {
    "name": "ipython",
    "version": 2
   },
   "file_extension": ".py",
   "mimetype": "text/x-python",
   "name": "python",
   "nbconvert_exporter": "python",
   "pygments_lexer": "ipython2",
   "version": "2.7.6"
  }
 },
 "nbformat": 4,
 "nbformat_minor": 0
}
